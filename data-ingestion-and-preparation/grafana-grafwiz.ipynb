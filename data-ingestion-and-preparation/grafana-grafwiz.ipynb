{
 "cells": [
  {
   "cell_type": "markdown",
   "metadata": {},
   "source": [
    "### Make sure grafwiz and v3io_frames are installed"
   ]
  },
  {
   "cell_type": "code",
   "execution_count": null,
   "metadata": {},
   "outputs": [],
   "source": [
    "!pip install git+https://github.com/v3io/grafwiz --upgrade"
   ]
  },
  {
   "cell_type": "code",
   "execution_count": null,
   "metadata": {},
   "outputs": [],
   "source": [
    "!pip install v3io_frames"
   ]
  },
  {
   "cell_type": "markdown",
   "metadata": {},
   "source": [
    "### Add environment configurations and import the necessary libraries"
   ]
  },
  {
   "cell_type": "code",
   "execution_count": null,
   "metadata": {},
   "outputs": [],
   "source": [
    "grafana_url = 'http://grafana'\n",
    "v3io_container = 'bigdata'\n",
    "stocks_kv_table = 'stocks_kv_table'\n",
    "stocks_tsdb_table = 'stocks_tsdb_table'"
   ]
  },
  {
   "cell_type": "code",
   "execution_count": null,
   "metadata": {},
   "outputs": [],
   "source": [
    "from grafwiz import *\n",
    "import os\n",
    "import v3io_frames as v3f\n",
    "import pandas as pd"
   ]
  },
  {
   "cell_type": "markdown",
   "metadata": {},
   "source": [
    "### Generate data for the dataframe"
   ]
  },
  {
   "cell_type": "markdown",
   "metadata": {},
   "source": [
    "#### Date that will serve as an index for the time series and additional parameters"
   ]
  },
  {
   "cell_type": "code",
   "execution_count": null,
   "metadata": {},
   "outputs": [],
   "source": [
    "import random\n",
    "import datetime\n",
    "def generate_date(rows):\n",
    "    datetimes = [datetime.datetime.today() + (random.random() * datetime.timedelta(days=1)) for i in range(rows)]\n",
    "    return datetimes\n",
    "\n",
    "def generate_volume_price(rows):\n",
    "    volume = [random.randint(0,10000) for i in range(rows)]\n",
    "    return volume\n",
    "\n",
    "rows = 345\n",
    "time = generate_date(rows)\n",
    "volume = generate_volume_price(rows)\n",
    "price = generate_volume_price(rows)"
   ]
  },
  {
   "cell_type": "markdown",
   "metadata": {},
   "source": [
    "#### Create a dataframe out of the generated index and add an index to the dataframe in order to make it accessible for tsdb"
   ]
  },
  {
   "cell_type": "code",
   "execution_count": null,
   "metadata": {},
   "outputs": [],
   "source": [
    "stocks_df = pd.DataFrame(\n",
    "    {'last_updated': time,\n",
    "     'volume': volume,\n",
    "     'price': price\n",
    "    })\n",
    "stocks_df['symbol'] = 'GOOGL'\n",
    "stocks_df = stocks_df.sort_values('last_updated')\n",
    "\n",
    "stocks_df"
   ]
  },
  {
   "cell_type": "code",
   "execution_count": null,
   "metadata": {},
   "outputs": [],
   "source": [
    "stocks_df = stocks_df.reset_index()\n",
    "stocks_df = stocks_df.set_index(['last_updated', 'symbol'])\n"
   ]
  },
  {
   "cell_type": "markdown",
   "metadata": {},
   "source": [
    "#### Create a client for v3io_frames create table and persist the dataframe in tsdb"
   ]
  },
  {
   "cell_type": "code",
   "execution_count": null,
   "metadata": {},
   "outputs": [],
   "source": [
    "client = v3f.Client('framesd:8081',container='bigdata')\n",
    "client.create(backend='tsdb', table=stocks_tsdb_table, rate='1/m', if_exists=1)\n",
    "client.write(backend='tsdb', table=stocks_tsdb_table, dfs=stocks_df)"
   ]
  },
  {
   "cell_type": "markdown",
   "metadata": {},
   "source": [
    "#### Update the kv table in order of rows arrival to simulate real time changing data"
   ]
  },
  {
   "cell_type": "code",
   "execution_count": null,
   "metadata": {},
   "outputs": [],
   "source": [
    "expr_template = \"symbol='{symbol}';price={price};volume={volume};last_updated='{last_updated}'\"\n",
    "# update NoSQL table with stock data\n",
    "for idx, record in stocks_df.iterrows():\n",
    "    stock = {'symbol': sym, 'price': record['price'], 'volume': record['volume'], 'last_updated': record['last_updated']}\n",
    "    expr = expr_template.format(**stock)\n",
    "    client.execute('kv', stocks_kv_table, 'update', args={'key': sym, 'expression': expr})"
   ]
  },
  {
   "cell_type": "markdown",
   "metadata": {},
   "source": [
    "#### Create a Datasource for grafana table and check that kv table exists and accessible"
   ]
  },
  {
   "cell_type": "code",
   "execution_count": null,
   "metadata": {},
   "outputs": [],
   "source": [
    "# Create datasources\n",
    "DataSource(name='Iguazio').deploy(grafana_url, use_auth=True)\n",
    "\n",
    "# Verify the KV table can be shown\n",
    "client = v3f.Client('framesd:8081', container=v3io_container)\n",
    "client.execute(backend='kv', table=stocks_kv_table, command='infer')"
   ]
  },
  {
   "cell_type": "markdown",
   "metadata": {},
   "source": [
    "#### Create a Dashboard define its datasource and then create a dashboard template"
   ]
  },
  {
   "cell_type": "code",
   "execution_count": null,
   "metadata": {},
   "outputs": [],
   "source": [
    "# Create grafana dashboard\n",
    "dash = Dashboard(\"stocks\", start='now-7d', dataSource='Iguazio')\n",
    "\n",
    "# Add a symbol combo box (template) with data from the stocks table\n",
    "dash.template(name=\"SYMBOL\", label=\"Symbol\", query=\"fields=symbol;table=stocks/stocks_kv;backend=kv;container=bigdata\")"
   ]
  },
  {
   "cell_type": "markdown",
   "metadata": {},
   "source": [
    "#### Create a table and 2 charts"
   ]
  },
  {
   "cell_type": "code",
   "execution_count": null,
   "metadata": {},
   "outputs": [],
   "source": [
    "# Create a table and log viewer in one row\n",
    "tbl = Table('Current Stocks Value', span=12).source(table=stocks_kv_table,fields=['symbol','volume', 'price', 'last_updated'],container=v3io_container)\n",
    "dash.row([tbl])\n",
    "\n",
    "# Create 2 charts on the second row\n",
    "metrics_row = [Graph(metric).series(table=stocks_tsdb_table, fields=[metric], filter='symbol==\"$SYMBOL\"',container=v3io_container) for metric in ['price','volume']]\n",
    "metrics_row.append(Graph('price').series(table=stocks_tsdb_table, fields=['price'], filter='symbol==\"$SYMBOL\"', container=v3io_container))\n",
    "dash.row(metrics_row)\n",
    "\n",
    "\n"
   ]
  },
  {
   "cell_type": "code",
   "execution_count": null,
   "metadata": {},
   "outputs": [],
   "source": [
    "# Deploy to Grafana\n",
    "dash.deploy(grafana_url)"
   ]
  }
 ],
 "metadata": {
  "kernelspec": {
   "display_name": "Python [conda env:root] *",
   "language": "python",
   "name": "conda-root-py"
  },
  "language_info": {
   "codemirror_mode": {
    "name": "ipython",
    "version": 3
   },
   "file_extension": ".py",
   "mimetype": "text/x-python",
   "name": "python",
   "nbconvert_exporter": "python",
   "pygments_lexer": "ipython3",
   "version": "3.7.6"
  }
 },
 "nbformat": 4,
 "nbformat_minor": 4
}
