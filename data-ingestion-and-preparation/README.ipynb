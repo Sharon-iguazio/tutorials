{
 "cells": [
  {
   "cell_type": "markdown",
   "metadata": {},
   "source": [
    "# Data Ingestion and Preparation Overview\n",
    "\n",
    "Learn about different methods for ingesting data into the Iguazio Data Science Platform, analyzing the data, and preparing it for the next step in your data pipeline."
   ]
  },
  {
   "cell_type": "markdown",
   "metadata": {},
   "source": [
    "- [Overview](#data-ingest-overview)\n",
    "  - [Platform Data Containers](#platform-data-containers)\n",
    "- [Basic Flow](#data-ingest-basic-flow)\n",
    "- [Reading from External Database](#data-ingest-external-dbs)\n",
    "  - [Using Spark over JDBC](#data-ingest-spark-over-jdbs)\n",
    "  - [Using SQLAlchemy](#data-ingest-sqlalchemy)\n",
    "- [Working with Spark](#data-ingest-spark)\n",
    "  - [Using Spark SQL and DataFrames](#data-ingest-spark-sql-n-dfs)\n",
    "- [Working with Streams](#data-ingest-streams)\n",
    "  - [Using Nuclio to Get Data from Common Streaming Engines](#data-ingest-streams-nuclio)\n",
    "  - [Using the Platform's Streaming Engine](#data-ingest-streams-platform)\n",
    "  - [Using Spark Streaming](#data-ingest-streams-spark)\n",
    "- [Running SQL Queries on Platform Dat](#data-ingest-sql)\n",
    "  - [Running Full ANSI Presto SQL Queries](#data-ingest-sql-presto)\n",
    "  - [Running Spark SQL Queries](#data-ingest-sql-spark)\n",
    "  - [Running SQL Queries from Nuclio Functions](#data-ingest-sql-nuclio)\n",
    "- [Working with Parquet Files](#data-ingest-parquet)\n",
    "- [Accessing Platform NoSQL and TSDB Data Using the Frames Library](#data-ingest-frames)\n",
    "- [Getting Data from AWS S3 Using curl](data-ingest-s3-curl)\n",
    "- [Running Distributed Python with Dask](#data-ingest-dask)\n",
    "- [Running DataFrames on GPUs using NVIDIA cuDF](#data-ingest-gpu)"
   ]
  },
  {
   "cell_type": "markdown",
   "metadata": {},
   "source": [
    "<a id=\"data-ingest-overview\"></a>\n",
    "## Overview\n",
    "\n",
    "The Iguazio Data Science Platform (**\"the platform\"**) allows storing data in any format.\n",
    "The platform's multi-model data layer and related APIs provide enhanced support for working with NoSQL (\"key-value\"), time-series, and stream data.\n",
    "Various steps of the data science life cycle (pipeline) might require different tools and frameworks for working with data, especially when it comes to the different mechanisms required during the research and development phase versus the operational production phase.\n",
    "The platform features a wide set of methods for manipulating and managing data, of different formats, in each step of the data life cycle, using a variety of frameworks, tools, and API &mdash; such as Spark SQL and DataFrames, Spark Streaming, Presto SQL queries, pandas DataFrames, Dask, the V3IO Frames Python library, and web APIs\n",
    "\n",
    "This document provides an overview of various methods for collecting, storing, and manipulating data in the platform, and refers to sample tutorial notebooks that demonstrate how to use these methods.<br>\n",
    "For an in-depth overview of the platform and how it can be used to implement a full data science workflow, see the [**platform-overview.ipynb**](../platform-overview.ipynb) tutorial notebook.<br>\n",
    "For full end-to-end platform use-case application demos, see [**demos**](../demos/README.ipynb) tutorial notebooks directory.\n",
    "\n",
    "<br><img src=\"../assets/images/pipeline-diagram.jpg\" alt=\"pipeline-diagram\" width=\"1000\"/><br>"
   ]
  },
  {
   "cell_type": "markdown",
   "metadata": {},
   "source": [
    "<a id=\"platform-data-containers\"></a>\n",
    "### Platform Data Containers\n",
    "\n",
    "Data is stored within data containers in the platform's distributed file system (DFS).\n",
    "All platform clusters have two predefined containers:\n",
    "\n",
    "- <a id=\"default-container\"></a> The default **\"bigdata\"** container.\n",
    "- <a id=\"users-container\"></a>The **\"users\"** container, which is designed to contain **&lt;username&gt;** directories that provide individual development environments for storing user-specific data.\n",
    "  The platform's Jupyter Notebook, Zeppelin, and web-based shell \"command-line services\" automatically create such a directory for the running user of the service and set it as the home directory of the service environment.\n",
    "  You can leverage the following environment variables, which are predefined in the platform's command-line services, to access this running-user directory from your code:\n",
    "\n",
    "  - `V3IO_USERNAME` &mdash; set to the username of the running user of the Jupyter Notebook service.\n",
    "  - `V3IO_HOME` &mdash; set to the running-user directory in the \"users\" container &mdash; **users/&lt;running user&gt;**.\n",
    "  - `V3IO_HOME_URL` &mdash; set to the fully qualified `v3io` path to the running-user directory &mdash; `v3io://users/<running user>`.\n",
    "\n",
    "The data containers and their contents are referenced differently depending on the programming interface.\n",
    "For example:\n",
    "\n",
    "- In local file-system (FS) commands you use the predefined `v3io` root data mount &mdash; `/v3io/<container name>[/<data path>]`.\n",
    "  There's also a predefined local-FS `User` mount to the **users/&lt;running user&gt;** directory, and you can use the aforementioned environment variables when setting data paths.\n",
    "  For example, `/v3io/users/$V3IO_USERNAME`, `/v3io/$V3IO_HOME`, and `/User` are all valid ways of referencing the **users/&lt;running user&gt;** directory from a local FS command.\n",
    "- In Hadoop FS or Spark DataFrame commands you use a fully qualified path of the format `v3io://<container name>/<data path>`.\n",
    "  You can also use environment variables with these interfaces.\n",
    "\n",
    "For detailed information and examples on how to set the data path for each interface, see [Setting Data Paths](https://www.iguazio.com/docs/latest-release/tutorials/getting-started/fundamentals/#data-paths) and the examples in the platform's tutorial Jupyter notebooks."
   ]
  },
  {
   "cell_type": "markdown",
   "metadata": {},
   "source": [
    "<a id=\"data-ingest-basic-flow\"></a>\n",
    "## Basic Flow\n",
    "\n",
    "The [**basic-data-ingestion-and-preparation**](basic-data-ingestion-and-preparation.ipynb) tutorial walks you through basic scenarios of ingesting data from external sources into the platform's data store and manipulating the data using different data formats.\n",
    "The tutorial includes an example of ingesting a CSV file from an AWS S3 bucket; converting it into a NoSQL table using Spark DataFrames; running SQL queries on the table; and converting the table into a Parquet file."
   ]
  },
  {
   "cell_type": "markdown",
   "metadata": {},
   "source": [
    "<a id=\"data-ingest-external-dbs\"></a>\n",
    "## Reading Data from External Databases\n",
    "\n",
    "You can use different methods to read data from external databases into the platform's data store, such Spark over JDBC or SQLAlchemy."
   ]
  },
  {
   "cell_type": "markdown",
   "metadata": {},
   "source": [
    "<a id=\"data-ingest-spark-over-jdbs\"></a>\n",
    "### Using Spark over JDBC\n",
    "\n",
    "Spark SQL includes a data source that can read data from other databases using Java database connectivity (JDBC).\n",
    "The results are returned as a Spark DataFrame that can easily be processed using Spark SQL, or joined with other data sources.\n",
    "The [**spark-jdb**](spark-jdbc.ipynb) tutorial includes several examples of using Spark JDBC to ingest data from various databases &mdash; such as MySQL, Oracle, and PostgreSQL."
   ]
  },
  {
   "cell_type": "markdown",
   "metadata": {},
   "source": [
    "<a id=\"data-ingest-sqlalchemy\"></a>\n",
    "### Using SQLAlchemy\n",
    "\n",
    "The [**read-external-db**](read-external-db.ipynb) tutorial outlines how to ingest data using [SQLAlchemy](https://www.sqlalchemy.org/) &mdash; a Python SQL toolkit and Object Relational Mapper, which gives application developers the full power and flexibility of SQL &mdash; and then use Python DataFrames to work on the ingested data set."
   ]
  },
  {
   "cell_type": "markdown",
   "metadata": {},
   "source": [
    "<a id=\"data-ingest-spark\"></a>\n",
    "## Working with Spark\n",
    "\n",
    "The platform has a default pre-deployed Spark service that enables ingesting, analyzing, and manipulating data using different [Spark](http://spark.apache.org) APIs:\n",
    "\n",
    "- Using Spark SQL and DataFrames\n",
    "- Using the Spark Streaming API &mdash; see [Using Streaming Streaming](#data-ingest-streams-spark) under \"Working with Spark\"."
   ]
  },
  {
   "cell_type": "markdown",
   "metadata": {},
   "source": [
    "<a id=\"data-ingest-spark-sql-n-dfs\"></a>\n",
    "### Using Spark SQL and DataFrames\n",
    "\n",
    "Spark lets you write and query structured data inside Spark programs by using either SQL or a familiar DataFrame API.\n",
    "DataFrames and SQL provide a common way to access a variety of data sources.\n",
    "You can use the [Spark SQL and DataFrames](https://spark.apache.org/sql/) API to ingest data into the platform, for both batch and micro-batch processing, and analyze and manipulate large data sets, in a distributed manner.\n",
    "\n",
    "The platform's custom NoSQL Spark DataFrame implements the Spark data-source API to support a custom data source that enables reading and writing data in the platform's NoSQL store using Spark DataFrames, including enhanced features such as data pruning and filtering (predicate push down); queries are passed to the platform's data store, which returns only the relevant data.\n",
    "This allows accelerated and high-speed access from Spark to data stored in the platform.\n",
    "\n",
    "The [**spark-sql-analytics**](spark-sql-analytics.ipynb) tutorial demonstrates how to use Spark SQL and DataFrames to access objects, tables, and unstructured data that persists in the platform's data store.\n",
    "\n",
    "For more information and examples of data ingestion with Spark DataFrames, see [Getting Started with Data Ingestion Using Spark](https://www.iguazio.com/docs/latest-release/tutorials/getting-started/data-ingestn-w-spark-qs/).<br>\n",
    "For more about running SQL queries with Spark, see [Running Spark SQL Queries](#data-ingest-sql-spark) under \"Running SQL Queries on Platform Data\"."
   ]
  },
  {
   "cell_type": "markdown",
   "metadata": {},
   "source": [
    "<a id=\"data-ingest-streams\"></a>\n",
    "## Working with Streams\n",
    "\n",
    "The platform supports various methods for working with data streams, including the following:\n",
    "\n",
    "- [Using Nuclio to Get Data from Common Streaming Engines](#data-ingest-streams-nuclio)\n",
    "- [Using the Platform's Streaming Engine](#data-ingest-streams-platform)\n",
    "- [Using Spark Streaming](#data-ingest-streams-spark)"
   ]
  },
  {
   "cell_type": "markdown",
   "metadata": {},
   "source": [
    "<a id=\"data-ingest-streams-nuclio\"></a>\n",
    "### Using Nuclio to Get Data from Common Streaming Engines\n",
    "\n",
    "The platform has a default pre-deployed Nuclio service that uses Iguaio's [Nuclio](https://nuclio.io/) serverless-framework, which provides a mechanism for analyzing and processing real-time events from various streaming engines.\n",
    "Nuclio currently supports the following streaming frameworks &mdash; Kafka, kinesis, Azure Event Hubs, platform streams (a.k.a. V3IO streams), RabbitMQ, and MQTT.\n",
    "\n",
    "Using Nuclio functions to retrieve and analyze streaming data in real time is a very common practice when building a real-time data pipeline.\n",
    "You can stream any type of data &mdash; such as telemetry (NetOps) metrics, financial transactions, web clicks, or sensors data &mdash; in any format, including images and videos. \n",
    "You can also implement your own logic within the Nuclio function to manipulate or enrich the consumed stream data and prepare it for the next step in the pipeline.\n",
    "\n",
    "Nuclio serverless functions can sustain high workloads with very low latencies, thus making them very useful for building an event-driven applications with strict latency requirements.\n",
    "\n",
    "For more information about Nuclio, see the platform's [serverless introduction](https://www.iguazio.com/docs/intro/latest-release/serverless/)."
   ]
  },
  {
   "cell_type": "markdown",
   "metadata": {},
   "source": [
    "<a id=\"data-ingest-streams-platform\"></a>\n",
    "### Using the Platform's Streaming Engine \n",
    "\n",
    "The platform features a custom streaming engine and a related stream format &mdash; a platform stream (a.k.a. V3IO stream).\n",
    "You can use the platform's streaming engine to write data into a queue in a real-time data pipeline, or as a standard streaming engine (similar to Kafka and Kinesis), so you don't need to use an external engine.\n",
    "\n",
    "The platform's streaming engine is currently available via the platform's [Streaming Web API](https://www.iguazio.com/docs/latest-release/reference/api-reference/web-apis/streaming-web-api/).<br>\n",
    "In addition, the platform's Spark-Streaming Integration API enables using the Spark Streaming API to work with platform streams, as explained in the next section ([Using Spark Streaming](#data-ingest-streams-spark)).\n",
    "\n",
    "The [**stream-enrich**](../demos/stream-enrich/stream-enrich.ipynb) demo application includes an example of a Nuclio function that uses platform streams."
   ]
  },
  {
   "cell_type": "markdown",
   "metadata": {},
   "source": [
    "<a id=\"data-ingest-streams-spark\"></a>\n",
    "### Using Spark Streaming\n",
    "\n",
    "You can use the [Spark Streaming](http://spark.apache.org/streaming/) API to ingest, consume, and analyze data using data streams.\n",
    "The platform features a custom [Spark-Streaming Integaration API](https://www.iguazio.com/docs/latest-release/reference/api-reference/spark-apis/spark-streaming-integration-api/) to allow using the Spark Streaming API with [platform streams](#data-ingest-streams-platform).\n",
    "\n",
    "<!-- TODO: Add more information / add a tutorial and refer to it. -->"
   ]
  },
  {
   "cell_type": "markdown",
   "metadata": {},
   "source": [
    "<a id=\"data-ingest-sql\"></a>\n",
    "## Running SQL Queries on Platform Data\n",
    "\n",
    "You can run SQL queries on NoSQL and Parquet data in the platform's data store, using any of the folowing methods:\n",
    "\n",
    "- [Running full ANSII Presto SQL queries](#data-ingest-sql-presto) using SQL magic\n",
    "- [Running Spark SQL queries](#data-ingest-sql-spark)\n",
    "- [Running SQL queries from Nuclio functions](#data-ingest-sql-nuclio)"
   ]
  },
  {
   "cell_type": "markdown",
   "metadata": {},
   "source": [
    "<a id=\"data-ingest-sql-presto\"></a>\n",
    "### Running Full ANSII Presto SQL Queries\n",
    "\n",
    "The platform has a default pre-deployed Presto service that enables using the [Presto](https://prestosql.io/) open-source distributed SQL query engine to run interactive SQL queries and perform high-performance low-latency interactive analytics on data that's stored in the platform.\n",
    "To run a Presto query from a Jupyter notebook, all you need is to use an SQL magic command &mdash; `%sql` followed by your Presto query.\n",
    "Such queries are executed as distributed queries across the platform's application nodes.\n",
    "The [**basic-data-ingestion-and-preparation**](basic-data-ingestion-and-preparationipynb) tutorial demonstrates how to run Presto queies using SQL magic.\n",
    "\n",
    "Note that for running queries on Parquet tables, you need to work with Hive tables.\n",
    "The [**csv-to-hive**](csv-to-hive.ipynb) tutorial includes a script that converts a CSV file into a Hive table."
   ]
  },
  {
   "cell_type": "markdown",
   "metadata": {},
   "source": [
    "<a id=\"data-ingest-sql-spark\"></a>\n",
    "### Running Spark SQL Queries\n",
    "\n",
    "The [**spark-sql-analytics**](spark-sql-analytics.ipynb) tutorial demonstrates how to run Spark SQL queries on data in the platform's data store.\n",
    "\n",
    "For more information about the platform's Spark service, see [Working with Spark](#data-ingest-spark) in this document."
   ]
  },
  {
   "cell_type": "markdown",
   "metadata": {},
   "source": [
    "<a id=\"data-ingest-sql-nuclio\"></a>\n",
    "### Running SQL Queries from Nuclio Functions \n",
    "\n",
    "In some cases, you might need to run an SQL query as part an event-driven application.\n",
    "The [**nuclio-read-via-presto**](nuclio-read-via-presto.ipynb) tutorial demonstrates how to run an SQL query from a serverless Nuclio function."
   ]
  },
  {
   "cell_type": "markdown",
   "metadata": {},
   "source": [
    "<a id=\"data-ingest-parquet\"></a>\n",
    "## Working with Parquet Files\n",
    "\n",
    "Parquet is a columnar storage format that provides high-density high-performance file organization.<br>\n",
    "The [**parquet-read-write**](parquet-read-write.ipynb) tutorial demonstrates how to create and write data to a Parquet table in the platform and read data from the table.\n",
    "\n",
    "After you ingest Parquet files into the platform, you might want to create related Hive tables and run SQL queries on these tables.<br>\n",
    "The [**parquet-to-hive**](parquet-to-hive.ipynb) tutorial demonstrates how you can do this using Spark DataFrames."
   ]
  },
  {
   "cell_type": "markdown",
   "metadata": {},
   "source": [
    "<a id=\"data-ingest-frames\"></a>\n",
    "## Accessing Platform NoSQL and TSDB Data Using the Frames Library\n",
    "\n",
    "[V3IO Frames](https://github.com/v3io/frames) (**\"Frames\"**) is a multi-model open-source data-access library, developed by Iguazio, which provides a unified high-performance DataFrame API for working with data in the platform's data store.\n",
    "Frames currently supports the NoSQL (key-value) and time-series (TSDB) data models via its NoSQL (`nosql`|`kv`) and TSDB (`tsdb`) backends.\n",
    "The [**frames**](frames.ipynb) tutorial provides an introduction to Frames and demonstrates how to use it to work with NoSQL and TSDB data in the platform."
   ]
  },
  {
   "cell_type": "markdown",
   "metadata": {},
   "source": [
    "<a id=\"data-ingest-s3-curl\"></a>\n",
    "## Getting Data from AWS S3 Using curl\n",
    "\n",
    "A simple way to ingest data from the Amazon Simple Storage Service (S3) into the platform's data store is to run a curl command that sends an HTTP request to the relevant AWS S3 bucket, as demonstrated in the following code cell.\n",
    "For more information and examples, see the [**basic-data-ingestion-and-preparation**](basic-data-ingestion-and-preparation.ipynb#ingest-from-amazon-s3-using-curl) tutorial.\n",
    "<!-- TODO: Add a reference to the XCP tool and explain how to load a bulk of data from S3. -->"
   ]
  },
  {
   "cell_type": "code",
   "execution_count": null,
   "metadata": {},
   "outputs": [],
   "source": [
    "%%sh\n",
    "CSV_PATH=\"/User/examples/stocks.csv\"\n",
    "curl -L \"iguazio-sample-data.s3.amazonaws.com/2018-03-26_BINS_XETR08.csv\" > ${CSV_PATH}"
   ]
  },
  {
   "cell_type": "markdown",
   "metadata": {},
   "source": [
    "<a id=\"data-ingest-dask\"></a>\n",
    "## Running Distributed Python Code with Dask\n",
    "\n",
    "[Dask](https://dask.org/) is a flexible library for parallel computing in Python, which is useful for computations that don't fit into a DataFrame.\n",
    "Dask exposes low-level APIs that enable you to build custom systems for in-house applications.\n",
    "This helps parallelize Python processes and dramatically accelerates their performance.\n",
    "The [**dask-cluster**](dask-cluster.ipynb) tutorial demonstrates how to use Dask with platform data."
   ]
  },
  {
   "cell_type": "markdown",
   "metadata": {},
   "source": [
    "<a id=\"data-ingest-gpu\"></a>\n",
    "## Running DataFrames on GPUs using NVIDIA cuDF\n",
    "\n",
    "The platform allows you to use NVIDIA’s [RAPIDS](https://rapids.ai/) open-source libraries suite to execute end-to-end data science and analytics pipelines entirely on GPUs.\n",
    "[cuDF](https://docs.rapids.ai/api/cudf/stable/) is a RAPIDS GPU DataFrame library for loading, joining, aggregating, filtering, and otherwise manipulating data.\n",
    "This library features a pandas-like API that will be familiar to data engineers and data scientists, who can use it to easily accelerate their workflows without going into the details of CUDA programming.\n",
    "The [**gpu-cudf-vs-pd**](gpu-cudf-vs-pd.ipynb) tutorial demonstrates how to use the cuDF library and compares performance benchmarks with pandas and cuDF.\n",
    "\n",
    "> **Note:** To use the cuDF library, you need to create a RAPIDS Conda environment.\n",
    "> For more information, see the [**virtual-env**](virtual-env.ipynb#) tutorial."
   ]
  }
 ],
 "metadata": {
  "kernelspec": {
   "display_name": "Python 3",
   "language": "python",
   "name": "python3"
  },
  "language_info": {
   "codemirror_mode": {
    "name": "ipython",
    "version": 3
   },
   "file_extension": ".py",
   "mimetype": "text/x-python",
   "name": "python",
   "nbconvert_exporter": "python",
   "pygments_lexer": "ipython3",
   "version": "3.6.8"
  }
 },
 "nbformat": 4,
 "nbformat_minor": 4
}
